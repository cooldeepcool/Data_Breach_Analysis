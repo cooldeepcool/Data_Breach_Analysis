{
  "nbformat": 4,
  "nbformat_minor": 0,
  "metadata": {
    "colab": {
      "provenance": []
    },
    "kernelspec": {
      "name": "python3",
      "display_name": "Python 3"
    },
    "language_info": {
      "name": "python"
    }
  },
  "cells": [
    {
      "cell_type": "markdown",
      "source": [
        "Data Breach Cleaning Exercise - Exploratory Data Analysis"
      ],
      "metadata": {
        "id": "PQLNcNaSXGjJ"
      }
    },
    {
      "cell_type": "code",
      "execution_count": 21,
      "metadata": {
        "id": "5500DaFuYTZF"
      },
      "outputs": [],
      "source": [
        "# Loading the necessary libraries needed for data analysis\n",
        "import pandas as pd\n",
        "import seaborn as sns\n",
        "import matplotlib.pyplot as plt\n",
        "\n",
        "# Comment this if the data visualisations doesn't work on your side\n",
        "%matplotlib inline\n",
        "\n",
        "plt.style.use('bmh')\n"
      ]
    },
    {
      "cell_type": "code",
      "source": [
        "# Loading the file using file upload option\n",
        "\n",
        "from google.colab import files\n",
        " \n",
        " \n",
        "uploaded = files.upload()\n"
      ],
      "metadata": {
        "colab": {
          "resources": {
            "http://localhost:8080/nbextensions/google.colab/files.js": {
              "data": "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",
              "ok": true,
              "headers": [
                [
                  "content-type",
                  "application/javascript"
                ]
              ],
              "status": 200,
              "status_text": ""
            }
          },
          "base_uri": "https://localhost:8080/",
          "height": 74
        },
        "id": "aE7rL8SiXuSu",
        "outputId": "a25ca85e-637f-4a52-f889-344397f39278"
      },
      "execution_count": 22,
      "outputs": [
        {
          "output_type": "display_data",
          "data": {
            "text/plain": [
              "<IPython.core.display.HTML object>"
            ],
            "text/html": [
              "\n",
              "     <input type=\"file\" id=\"files-6fb12529-fc88-43f5-b051-7557fbf4d63a\" name=\"files[]\" multiple disabled\n",
              "        style=\"border:none\" />\n",
              "     <output id=\"result-6fb12529-fc88-43f5-b051-7557fbf4d63a\">\n",
              "      Upload widget is only available when the cell has been executed in the\n",
              "      current browser session. Please rerun this cell to enable.\n",
              "      </output>\n",
              "      <script src=\"/nbextensions/google.colab/files.js\"></script> "
            ]
          },
          "metadata": {}
        },
        {
          "output_type": "stream",
          "name": "stdout",
          "text": [
            "Saving DataBreaches.csv to DataBreaches (1).csv\n"
          ]
        }
      ]
    },
    {
      "cell_type": "code",
      "source": [
        "# Loading the file with most recent record\n",
        "\n",
        "import pandas as pd\n",
        "import io\n",
        " \n",
        "df = pd.read_csv(io.BytesIO(uploaded['DataBreaches.csv']),encoding='windows-1252')\n",
        "print(df)"
      ],
      "metadata": {
        "colab": {
          "base_uri": "https://localhost:8080/"
        },
        "id": "tSinlQg8YnhB",
        "outputId": "68379ebf-23b5-44bb-95bc-81aad5b9dde9"
      },
      "execution_count": 23,
      "outputs": [
        {
          "output_type": "stream",
          "name": "stdout",
          "text": [
            "                          Entity  \\\n",
            "0                            AOL   \n",
            "1    Cardsystems Solutions Inc.    \n",
            "2                Ameritrade Inc.   \n",
            "3                      Citigroup   \n",
            "4      Automatic Data Processing   \n",
            "..                           ...   \n",
            "271                       Orbitz   \n",
            "272                      Aadhaar   \n",
            "273       Saks and Lord & Taylor   \n",
            "274                  Panerabread   \n",
            "275                 MyFitnessPal   \n",
            "\n",
            "                                      Alternative Name  \\\n",
            "0                                      American Online   \n",
            "1    Third-party payment processor for Visa, Master...   \n",
            "2    Computer backup tape containing personal infor...   \n",
            "3                                                  NaN   \n",
            "4             Business outsourcing, payrolls, benefits   \n",
            "..                                                 ...   \n",
            "271                                                NaN   \n",
            "272            India's national government ID database   \n",
            "273                 Both owned by Hudson's Bay Company   \n",
            "274                                                NaN   \n",
            "275                                        UnderArmour   \n",
            "\n",
            "                                                 Story  Year  records lost  \\\n",
            "0    A former America Online software engineer stol...  2004  9.200000e+07   \n",
            "1    CardSystems was fingered by MasterCard after i...  2005  4.000000e+07   \n",
            "2                                        online broker  2005  2.000000e+05   \n",
            "3    Blame the messenger! A box of computer tapes c...  2005  3.900000e+06   \n",
            "4                                                  NaN  2005  1.250000e+05   \n",
            "..                                                 ...   ...           ...   \n",
            "271  Mar. An old version of the Orbitz website was ...  2018  8.800000e+05   \n",
            "272  Mar. A security researcher discovered a system...  2018  1.100000e+09   \n",
            "273  Apr. A known ring of cybercriminals implanted ...  2018  5.000000e+06   \n",
            "274  Customer records were available via the site f...  2018  3.700000e+07   \n",
            "275  Feb. Usernames, email addresses, and hashed us...  2018  1.500000e+08   \n",
            "\n",
            "    Organisation                 Method of Leak  Number of Records Stolen  \\\n",
            "0            web                     inside job                  92000000   \n",
            "1      financial                         hacked                  40000000   \n",
            "2      financial  lost / stolen device or media                    200000   \n",
            "3      financial  lost / stolen device or media                   3900000   \n",
            "4      financial                  poor security                    130000   \n",
            "..           ...                            ...                       ...   \n",
            "271          web                         hacked                    880000   \n",
            "272   government                  poor security                1100000000   \n",
            "273       retail                         hacked                   5000000   \n",
            "274       retail                  poor security                  37000000   \n",
            "275          app                         hacked                 150000000   \n",
            "\n",
            "     Data Sensitivity                                    1st source link  \\\n",
            "0                   1  http://money.cnn.com/2004/06/23/technology/aol...   \n",
            "1                 300  http://www.msnbc.msn.com/id/8260050/ns/technol...   \n",
            "2                  20                 http://www.nbcnews.com/id/7561268/   \n",
            "3                 300  http://www.nytimes.com/2005/06/07/business/07d...   \n",
            "4                  20  http://abcnews.go.com/Technology/story?id=2160...   \n",
            "..                ...                                                ...   \n",
            "271               300  https://www.usnews.com/news/business/articles/...   \n",
            "272              4000  http://www.zdnet.com/article/another-data-leak...   \n",
            "273               300  https://www.nytimes.com/2018/04/01/technology/...   \n",
            "274                20  https://krebsonsecurity.com/2018/04/panerabrea...   \n",
            "275                 1  https://www.theguardian.com/technology/2018/ma...   \n",
            "\n",
            "                                       2nd source link 3rd source  \\\n",
            "0    http://www.msnbc.msn.com/id/8985989/#.UFcN8RgUwaA        NaN   \n",
            "1                                                  NaN        NaN   \n",
            "2                                                  NaN        NaN   \n",
            "3                                                  NaN        NaN   \n",
            "4                                                  NaN        NaN   \n",
            "..                                                 ...        ...   \n",
            "271                                                NaN        NaN   \n",
            "272                                                NaN        NaN   \n",
            "273                                                NaN        NaN   \n",
            "274  https://medium.com/@djhoulihan/no-panera-bread...        NaN   \n",
            "275                                                NaN        NaN   \n",
            "\n",
            "                 Source Name  \n",
            "0                        CNN  \n",
            "1                      MSNBC  \n",
            "2                        NBC  \n",
            "3                   NY Times  \n",
            "4                        ABC  \n",
            "..                       ...  \n",
            "271                  US News  \n",
            "272                    ZDNet  \n",
            "273                  NYTimes  \n",
            "274  Krebsonsecurity, Medium  \n",
            "275                 Guardian  \n",
            "\n",
            "[276 rows x 13 columns]\n"
          ]
        }
      ]
    },
    {
      "cell_type": "code",
      "source": [
        "#view the data\n",
        "df.head()"
      ],
      "metadata": {
        "colab": {
          "base_uri": "https://localhost:8080/",
          "height": 669
        },
        "id": "yuPVJfSjeqVh",
        "outputId": "0cf778fe-0754-4356-be95-ba860c5a9e06"
      },
      "execution_count": 24,
      "outputs": [
        {
          "output_type": "execute_result",
          "data": {
            "text/plain": [
              "                        Entity  \\\n",
              "0                          AOL   \n",
              "1  Cardsystems Solutions Inc.    \n",
              "2              Ameritrade Inc.   \n",
              "3                    Citigroup   \n",
              "4    Automatic Data Processing   \n",
              "\n",
              "                                    Alternative Name  \\\n",
              "0                                    American Online   \n",
              "1  Third-party payment processor for Visa, Master...   \n",
              "2  Computer backup tape containing personal infor...   \n",
              "3                                                NaN   \n",
              "4           Business outsourcing, payrolls, benefits   \n",
              "\n",
              "                                               Story  Year  records lost  \\\n",
              "0  A former America Online software engineer stol...  2004    92000000.0   \n",
              "1  CardSystems was fingered by MasterCard after i...  2005    40000000.0   \n",
              "2                                      online broker  2005      200000.0   \n",
              "3  Blame the messenger! A box of computer tapes c...  2005     3900000.0   \n",
              "4                                                NaN  2005      125000.0   \n",
              "\n",
              "  Organisation                 Method of Leak  Number of Records Stolen  \\\n",
              "0          web                     inside job                  92000000   \n",
              "1    financial                         hacked                  40000000   \n",
              "2    financial  lost / stolen device or media                    200000   \n",
              "3    financial  lost / stolen device or media                   3900000   \n",
              "4    financial                  poor security                    130000   \n",
              "\n",
              "   Data Sensitivity                                    1st source link  \\\n",
              "0                 1  http://money.cnn.com/2004/06/23/technology/aol...   \n",
              "1               300  http://www.msnbc.msn.com/id/8260050/ns/technol...   \n",
              "2                20                 http://www.nbcnews.com/id/7561268/   \n",
              "3               300  http://www.nytimes.com/2005/06/07/business/07d...   \n",
              "4                20  http://abcnews.go.com/Technology/story?id=2160...   \n",
              "\n",
              "                                     2nd source link 3rd source Source Name  \n",
              "0  http://www.msnbc.msn.com/id/8985989/#.UFcN8RgUwaA        NaN         CNN  \n",
              "1                                                NaN        NaN       MSNBC  \n",
              "2                                                NaN        NaN         NBC  \n",
              "3                                                NaN        NaN    NY Times  \n",
              "4                                                NaN        NaN         ABC  "
            ],
            "text/html": [
              "\n",
              "  <div id=\"df-4b8e9bfa-7ccd-443d-8230-cd9c56c77abb\">\n",
              "    <div class=\"colab-df-container\">\n",
              "      <div>\n",
              "<style scoped>\n",
              "    .dataframe tbody tr th:only-of-type {\n",
              "        vertical-align: middle;\n",
              "    }\n",
              "\n",
              "    .dataframe tbody tr th {\n",
              "        vertical-align: top;\n",
              "    }\n",
              "\n",
              "    .dataframe thead th {\n",
              "        text-align: right;\n",
              "    }\n",
              "</style>\n",
              "<table border=\"1\" class=\"dataframe\">\n",
              "  <thead>\n",
              "    <tr style=\"text-align: right;\">\n",
              "      <th></th>\n",
              "      <th>Entity</th>\n",
              "      <th>Alternative Name</th>\n",
              "      <th>Story</th>\n",
              "      <th>Year</th>\n",
              "      <th>records lost</th>\n",
              "      <th>Organisation</th>\n",
              "      <th>Method of Leak</th>\n",
              "      <th>Number of Records Stolen</th>\n",
              "      <th>Data Sensitivity</th>\n",
              "      <th>1st source link</th>\n",
              "      <th>2nd source link</th>\n",
              "      <th>3rd source</th>\n",
              "      <th>Source Name</th>\n",
              "    </tr>\n",
              "  </thead>\n",
              "  <tbody>\n",
              "    <tr>\n",
              "      <th>0</th>\n",
              "      <td>AOL</td>\n",
              "      <td>American Online</td>\n",
              "      <td>A former America Online software engineer stol...</td>\n",
              "      <td>2004</td>\n",
              "      <td>92000000.0</td>\n",
              "      <td>web</td>\n",
              "      <td>inside job</td>\n",
              "      <td>92000000</td>\n",
              "      <td>1</td>\n",
              "      <td>http://money.cnn.com/2004/06/23/technology/aol...</td>\n",
              "      <td>http://www.msnbc.msn.com/id/8985989/#.UFcN8RgUwaA</td>\n",
              "      <td>NaN</td>\n",
              "      <td>CNN</td>\n",
              "    </tr>\n",
              "    <tr>\n",
              "      <th>1</th>\n",
              "      <td>Cardsystems Solutions Inc.</td>\n",
              "      <td>Third-party payment processor for Visa, Master...</td>\n",
              "      <td>CardSystems was fingered by MasterCard after i...</td>\n",
              "      <td>2005</td>\n",
              "      <td>40000000.0</td>\n",
              "      <td>financial</td>\n",
              "      <td>hacked</td>\n",
              "      <td>40000000</td>\n",
              "      <td>300</td>\n",
              "      <td>http://www.msnbc.msn.com/id/8260050/ns/technol...</td>\n",
              "      <td>NaN</td>\n",
              "      <td>NaN</td>\n",
              "      <td>MSNBC</td>\n",
              "    </tr>\n",
              "    <tr>\n",
              "      <th>2</th>\n",
              "      <td>Ameritrade Inc.</td>\n",
              "      <td>Computer backup tape containing personal infor...</td>\n",
              "      <td>online broker</td>\n",
              "      <td>2005</td>\n",
              "      <td>200000.0</td>\n",
              "      <td>financial</td>\n",
              "      <td>lost / stolen device or media</td>\n",
              "      <td>200000</td>\n",
              "      <td>20</td>\n",
              "      <td>http://www.nbcnews.com/id/7561268/</td>\n",
              "      <td>NaN</td>\n",
              "      <td>NaN</td>\n",
              "      <td>NBC</td>\n",
              "    </tr>\n",
              "    <tr>\n",
              "      <th>3</th>\n",
              "      <td>Citigroup</td>\n",
              "      <td>NaN</td>\n",
              "      <td>Blame the messenger! A box of computer tapes c...</td>\n",
              "      <td>2005</td>\n",
              "      <td>3900000.0</td>\n",
              "      <td>financial</td>\n",
              "      <td>lost / stolen device or media</td>\n",
              "      <td>3900000</td>\n",
              "      <td>300</td>\n",
              "      <td>http://www.nytimes.com/2005/06/07/business/07d...</td>\n",
              "      <td>NaN</td>\n",
              "      <td>NaN</td>\n",
              "      <td>NY Times</td>\n",
              "    </tr>\n",
              "    <tr>\n",
              "      <th>4</th>\n",
              "      <td>Automatic Data Processing</td>\n",
              "      <td>Business outsourcing, payrolls, benefits</td>\n",
              "      <td>NaN</td>\n",
              "      <td>2005</td>\n",
              "      <td>125000.0</td>\n",
              "      <td>financial</td>\n",
              "      <td>poor security</td>\n",
              "      <td>130000</td>\n",
              "      <td>20</td>\n",
              "      <td>http://abcnews.go.com/Technology/story?id=2160...</td>\n",
              "      <td>NaN</td>\n",
              "      <td>NaN</td>\n",
              "      <td>ABC</td>\n",
              "    </tr>\n",
              "  </tbody>\n",
              "</table>\n",
              "</div>\n",
              "      <button class=\"colab-df-convert\" onclick=\"convertToInteractive('df-4b8e9bfa-7ccd-443d-8230-cd9c56c77abb')\"\n",
              "              title=\"Convert this dataframe to an interactive table.\"\n",
              "              style=\"display:none;\">\n",
              "        \n",
              "  <svg xmlns=\"http://www.w3.org/2000/svg\" height=\"24px\"viewBox=\"0 0 24 24\"\n",
              "       width=\"24px\">\n",
              "    <path d=\"M0 0h24v24H0V0z\" fill=\"none\"/>\n",
              "    <path d=\"M18.56 5.44l.94 2.06.94-2.06 2.06-.94-2.06-.94-.94-2.06-.94 2.06-2.06.94zm-11 1L8.5 8.5l.94-2.06 2.06-.94-2.06-.94L8.5 2.5l-.94 2.06-2.06.94zm10 10l.94 2.06.94-2.06 2.06-.94-2.06-.94-.94-2.06-.94 2.06-2.06.94z\"/><path d=\"M17.41 7.96l-1.37-1.37c-.4-.4-.92-.59-1.43-.59-.52 0-1.04.2-1.43.59L10.3 9.45l-7.72 7.72c-.78.78-.78 2.05 0 2.83L4 21.41c.39.39.9.59 1.41.59.51 0 1.02-.2 1.41-.59l7.78-7.78 2.81-2.81c.8-.78.8-2.07 0-2.86zM5.41 20L4 18.59l7.72-7.72 1.47 1.35L5.41 20z\"/>\n",
              "  </svg>\n",
              "      </button>\n",
              "      \n",
              "  <style>\n",
              "    .colab-df-container {\n",
              "      display:flex;\n",
              "      flex-wrap:wrap;\n",
              "      gap: 12px;\n",
              "    }\n",
              "\n",
              "    .colab-df-convert {\n",
              "      background-color: #E8F0FE;\n",
              "      border: none;\n",
              "      border-radius: 50%;\n",
              "      cursor: pointer;\n",
              "      display: none;\n",
              "      fill: #1967D2;\n",
              "      height: 32px;\n",
              "      padding: 0 0 0 0;\n",
              "      width: 32px;\n",
              "    }\n",
              "\n",
              "    .colab-df-convert:hover {\n",
              "      background-color: #E2EBFA;\n",
              "      box-shadow: 0px 1px 2px rgba(60, 64, 67, 0.3), 0px 1px 3px 1px rgba(60, 64, 67, 0.15);\n",
              "      fill: #174EA6;\n",
              "    }\n",
              "\n",
              "    [theme=dark] .colab-df-convert {\n",
              "      background-color: #3B4455;\n",
              "      fill: #D2E3FC;\n",
              "    }\n",
              "\n",
              "    [theme=dark] .colab-df-convert:hover {\n",
              "      background-color: #434B5C;\n",
              "      box-shadow: 0px 1px 3px 1px rgba(0, 0, 0, 0.15);\n",
              "      filter: drop-shadow(0px 1px 2px rgba(0, 0, 0, 0.3));\n",
              "      fill: #FFFFFF;\n",
              "    }\n",
              "  </style>\n",
              "\n",
              "      <script>\n",
              "        const buttonEl =\n",
              "          document.querySelector('#df-4b8e9bfa-7ccd-443d-8230-cd9c56c77abb button.colab-df-convert');\n",
              "        buttonEl.style.display =\n",
              "          google.colab.kernel.accessAllowed ? 'block' : 'none';\n",
              "\n",
              "        async function convertToInteractive(key) {\n",
              "          const element = document.querySelector('#df-4b8e9bfa-7ccd-443d-8230-cd9c56c77abb');\n",
              "          const dataTable =\n",
              "            await google.colab.kernel.invokeFunction('convertToInteractive',\n",
              "                                                     [key], {});\n",
              "          if (!dataTable) return;\n",
              "\n",
              "          const docLinkHtml = 'Like what you see? Visit the ' +\n",
              "            '<a target=\"_blank\" href=https://colab.research.google.com/notebooks/data_table.ipynb>data table notebook</a>'\n",
              "            + ' to learn more about interactive tables.';\n",
              "          element.innerHTML = '';\n",
              "          dataTable['output_type'] = 'display_data';\n",
              "          await google.colab.output.renderOutput(dataTable, element);\n",
              "          const docLink = document.createElement('div');\n",
              "          docLink.innerHTML = docLinkHtml;\n",
              "          element.appendChild(docLink);\n",
              "        }\n",
              "      </script>\n",
              "    </div>\n",
              "  </div>\n",
              "  "
            ]
          },
          "metadata": {},
          "execution_count": 24
        }
      ]
    },
    {
      "cell_type": "code",
      "source": [
        "#Basic information\n",
        "\n",
        "df.info()\n",
        "\n",
        "#Describe the data\n",
        "\n",
        "df.describe()"
      ],
      "metadata": {
        "colab": {
          "base_uri": "https://localhost:8080/",
          "height": 647
        },
        "id": "BAb0kgedchc4",
        "outputId": "e090acfd-a16e-4407-a5b1-e6e1bfefe7ea"
      },
      "execution_count": 25,
      "outputs": [
        {
          "output_type": "stream",
          "name": "stdout",
          "text": [
            "<class 'pandas.core.frame.DataFrame'>\n",
            "RangeIndex: 276 entries, 0 to 275\n",
            "Data columns (total 13 columns):\n",
            " #   Column                    Non-Null Count  Dtype  \n",
            "---  ------                    --------------  -----  \n",
            " 0   Entity                    276 non-null    object \n",
            " 1   Alternative Name          127 non-null    object \n",
            " 2   Story                     240 non-null    object \n",
            " 3   Year                      276 non-null    int64  \n",
            " 4   records lost              274 non-null    float64\n",
            " 5   Organisation              276 non-null    object \n",
            " 6   Method of Leak            276 non-null    object \n",
            " 7   Number of Records Stolen  276 non-null    int64  \n",
            " 8   Data Sensitivity          276 non-null    int64  \n",
            " 9   1st source link           276 non-null    object \n",
            " 10  2nd source link           54 non-null     object \n",
            " 11  3rd source                4 non-null      object \n",
            " 12  Source Name               275 non-null    object \n",
            "dtypes: float64(1), int64(3), object(9)\n",
            "memory usage: 28.2+ KB\n"
          ]
        },
        {
          "output_type": "execute_result",
          "data": {
            "text/plain": [
              "              Year  records lost  Number of Records Stolen  Data Sensitivity\n",
              "count   276.000000  2.740000e+02              2.760000e+02        276.000000\n",
              "mean   2012.449275  3.698600e+07              3.452534e+07       5357.891304\n",
              "std       3.308551  1.481060e+08              1.300505e+08      14489.717269\n",
              "min    2004.000000  1.025000e+03              1.025000e+03          1.000000\n",
              "25%    2010.000000  3.935000e+05              4.000000e+05          1.000000\n",
              "50%    2013.000000  2.150000e+06              2.000000e+06         20.000000\n",
              "75%    2015.000000  1.140000e+07              1.242500e+07        300.000000\n",
              "max    2018.000000  1.370000e+09              1.100000e+09      50000.000000"
            ],
            "text/html": [
              "\n",
              "  <div id=\"df-b429cab6-243d-418c-b9ab-6a75871df8c4\">\n",
              "    <div class=\"colab-df-container\">\n",
              "      <div>\n",
              "<style scoped>\n",
              "    .dataframe tbody tr th:only-of-type {\n",
              "        vertical-align: middle;\n",
              "    }\n",
              "\n",
              "    .dataframe tbody tr th {\n",
              "        vertical-align: top;\n",
              "    }\n",
              "\n",
              "    .dataframe thead th {\n",
              "        text-align: right;\n",
              "    }\n",
              "</style>\n",
              "<table border=\"1\" class=\"dataframe\">\n",
              "  <thead>\n",
              "    <tr style=\"text-align: right;\">\n",
              "      <th></th>\n",
              "      <th>Year</th>\n",
              "      <th>records lost</th>\n",
              "      <th>Number of Records Stolen</th>\n",
              "      <th>Data Sensitivity</th>\n",
              "    </tr>\n",
              "  </thead>\n",
              "  <tbody>\n",
              "    <tr>\n",
              "      <th>count</th>\n",
              "      <td>276.000000</td>\n",
              "      <td>2.740000e+02</td>\n",
              "      <td>2.760000e+02</td>\n",
              "      <td>276.000000</td>\n",
              "    </tr>\n",
              "    <tr>\n",
              "      <th>mean</th>\n",
              "      <td>2012.449275</td>\n",
              "      <td>3.698600e+07</td>\n",
              "      <td>3.452534e+07</td>\n",
              "      <td>5357.891304</td>\n",
              "    </tr>\n",
              "    <tr>\n",
              "      <th>std</th>\n",
              "      <td>3.308551</td>\n",
              "      <td>1.481060e+08</td>\n",
              "      <td>1.300505e+08</td>\n",
              "      <td>14489.717269</td>\n",
              "    </tr>\n",
              "    <tr>\n",
              "      <th>min</th>\n",
              "      <td>2004.000000</td>\n",
              "      <td>1.025000e+03</td>\n",
              "      <td>1.025000e+03</td>\n",
              "      <td>1.000000</td>\n",
              "    </tr>\n",
              "    <tr>\n",
              "      <th>25%</th>\n",
              "      <td>2010.000000</td>\n",
              "      <td>3.935000e+05</td>\n",
              "      <td>4.000000e+05</td>\n",
              "      <td>1.000000</td>\n",
              "    </tr>\n",
              "    <tr>\n",
              "      <th>50%</th>\n",
              "      <td>2013.000000</td>\n",
              "      <td>2.150000e+06</td>\n",
              "      <td>2.000000e+06</td>\n",
              "      <td>20.000000</td>\n",
              "    </tr>\n",
              "    <tr>\n",
              "      <th>75%</th>\n",
              "      <td>2015.000000</td>\n",
              "      <td>1.140000e+07</td>\n",
              "      <td>1.242500e+07</td>\n",
              "      <td>300.000000</td>\n",
              "    </tr>\n",
              "    <tr>\n",
              "      <th>max</th>\n",
              "      <td>2018.000000</td>\n",
              "      <td>1.370000e+09</td>\n",
              "      <td>1.100000e+09</td>\n",
              "      <td>50000.000000</td>\n",
              "    </tr>\n",
              "  </tbody>\n",
              "</table>\n",
              "</div>\n",
              "      <button class=\"colab-df-convert\" onclick=\"convertToInteractive('df-b429cab6-243d-418c-b9ab-6a75871df8c4')\"\n",
              "              title=\"Convert this dataframe to an interactive table.\"\n",
              "              style=\"display:none;\">\n",
              "        \n",
              "  <svg xmlns=\"http://www.w3.org/2000/svg\" height=\"24px\"viewBox=\"0 0 24 24\"\n",
              "       width=\"24px\">\n",
              "    <path d=\"M0 0h24v24H0V0z\" fill=\"none\"/>\n",
              "    <path d=\"M18.56 5.44l.94 2.06.94-2.06 2.06-.94-2.06-.94-.94-2.06-.94 2.06-2.06.94zm-11 1L8.5 8.5l.94-2.06 2.06-.94-2.06-.94L8.5 2.5l-.94 2.06-2.06.94zm10 10l.94 2.06.94-2.06 2.06-.94-2.06-.94-.94-2.06-.94 2.06-2.06.94z\"/><path d=\"M17.41 7.96l-1.37-1.37c-.4-.4-.92-.59-1.43-.59-.52 0-1.04.2-1.43.59L10.3 9.45l-7.72 7.72c-.78.78-.78 2.05 0 2.83L4 21.41c.39.39.9.59 1.41.59.51 0 1.02-.2 1.41-.59l7.78-7.78 2.81-2.81c.8-.78.8-2.07 0-2.86zM5.41 20L4 18.59l7.72-7.72 1.47 1.35L5.41 20z\"/>\n",
              "  </svg>\n",
              "      </button>\n",
              "      \n",
              "  <style>\n",
              "    .colab-df-container {\n",
              "      display:flex;\n",
              "      flex-wrap:wrap;\n",
              "      gap: 12px;\n",
              "    }\n",
              "\n",
              "    .colab-df-convert {\n",
              "      background-color: #E8F0FE;\n",
              "      border: none;\n",
              "      border-radius: 50%;\n",
              "      cursor: pointer;\n",
              "      display: none;\n",
              "      fill: #1967D2;\n",
              "      height: 32px;\n",
              "      padding: 0 0 0 0;\n",
              "      width: 32px;\n",
              "    }\n",
              "\n",
              "    .colab-df-convert:hover {\n",
              "      background-color: #E2EBFA;\n",
              "      box-shadow: 0px 1px 2px rgba(60, 64, 67, 0.3), 0px 1px 3px 1px rgba(60, 64, 67, 0.15);\n",
              "      fill: #174EA6;\n",
              "    }\n",
              "\n",
              "    [theme=dark] .colab-df-convert {\n",
              "      background-color: #3B4455;\n",
              "      fill: #D2E3FC;\n",
              "    }\n",
              "\n",
              "    [theme=dark] .colab-df-convert:hover {\n",
              "      background-color: #434B5C;\n",
              "      box-shadow: 0px 1px 3px 1px rgba(0, 0, 0, 0.15);\n",
              "      filter: drop-shadow(0px 1px 2px rgba(0, 0, 0, 0.3));\n",
              "      fill: #FFFFFF;\n",
              "    }\n",
              "  </style>\n",
              "\n",
              "      <script>\n",
              "        const buttonEl =\n",
              "          document.querySelector('#df-b429cab6-243d-418c-b9ab-6a75871df8c4 button.colab-df-convert');\n",
              "        buttonEl.style.display =\n",
              "          google.colab.kernel.accessAllowed ? 'block' : 'none';\n",
              "\n",
              "        async function convertToInteractive(key) {\n",
              "          const element = document.querySelector('#df-b429cab6-243d-418c-b9ab-6a75871df8c4');\n",
              "          const dataTable =\n",
              "            await google.colab.kernel.invokeFunction('convertToInteractive',\n",
              "                                                     [key], {});\n",
              "          if (!dataTable) return;\n",
              "\n",
              "          const docLinkHtml = 'Like what you see? Visit the ' +\n",
              "            '<a target=\"_blank\" href=https://colab.research.google.com/notebooks/data_table.ipynb>data table notebook</a>'\n",
              "            + ' to learn more about interactive tables.';\n",
              "          element.innerHTML = '';\n",
              "          dataTable['output_type'] = 'display_data';\n",
              "          await google.colab.output.renderOutput(dataTable, element);\n",
              "          const docLink = document.createElement('div');\n",
              "          docLink.innerHTML = docLinkHtml;\n",
              "          element.appendChild(docLink);\n",
              "        }\n",
              "      </script>\n",
              "    </div>\n",
              "  </div>\n",
              "  "
            ]
          },
          "metadata": {},
          "execution_count": 25
        }
      ]
    },
    {
      "cell_type": "code",
      "source": [
        "#Find the duplicates\n",
        "\n",
        "df.duplicated().sum()"
      ],
      "metadata": {
        "colab": {
          "base_uri": "https://localhost:8080/"
        },
        "id": "PF3EQnGBnFjX",
        "outputId": "e464f4f7-b9a6-4c98-a128-210c6af2ae98"
      },
      "execution_count": 26,
      "outputs": [
        {
          "output_type": "execute_result",
          "data": {
            "text/plain": [
              "0"
            ]
          },
          "metadata": {},
          "execution_count": 26
        }
      ]
    },
    {
      "cell_type": "code",
      "source": [
        "#unique values\n",
        "\n",
        "df['Year'].unique()\n",
        "\n"
      ],
      "metadata": {
        "colab": {
          "base_uri": "https://localhost:8080/"
        },
        "id": "SIu31zgZq19_",
        "outputId": "2dadd123-cde1-463b-9553-d6788f598031"
      },
      "execution_count": 27,
      "outputs": [
        {
          "output_type": "execute_result",
          "data": {
            "text/plain": [
              "array([2004, 2005, 2006, 2007, 2008, 2009, 2010, 2011, 2012, 2013, 2014,\n",
              "       2015, 2016, 2017, 2018])"
            ]
          },
          "metadata": {},
          "execution_count": 27
        }
      ]
    },
    {
      "cell_type": "code",
      "source": [
        "df['Method of Leak'].unique()"
      ],
      "metadata": {
        "colab": {
          "base_uri": "https://localhost:8080/"
        },
        "id": "TN01YGksr-tJ",
        "outputId": "c26e3610-75d2-4dde-d8e7-5f4915c4a2f6"
      },
      "execution_count": 28,
      "outputs": [
        {
          "output_type": "execute_result",
          "data": {
            "text/plain": [
              "array(['inside job', 'hacked', 'lost / stolen device or media',\n",
              "       'poor security', 'accidentally published', 'hacked '], dtype=object)"
            ]
          },
          "metadata": {},
          "execution_count": 28
        }
      ]
    },
    {
      "cell_type": "code",
      "source": [
        "df['Data Sensitivity'].unique()"
      ],
      "metadata": {
        "colab": {
          "base_uri": "https://localhost:8080/"
        },
        "id": "GGDHUZcpsWyL",
        "outputId": "3af104ec-12bf-4e50-b8d4-c7d21b67a34f"
      },
      "execution_count": 29,
      "outputs": [
        {
          "output_type": "execute_result",
          "data": {
            "text/plain": [
              "array([    1,   300,    20, 50000,  4000,     3])"
            ]
          },
          "metadata": {},
          "execution_count": 29
        }
      ]
    },
    {
      "cell_type": "code",
      "source": [
        "#Make a copy:\n",
        "\n",
        "df_final = df.copy()\n",
        "\n",
        "print(df_final)"
      ],
      "metadata": {
        "colab": {
          "base_uri": "https://localhost:8080/"
        },
        "id": "3mnoClOUsZPY",
        "outputId": "cc8c5319-d7c2-48fa-a811-daa8904f8c96"
      },
      "execution_count": 30,
      "outputs": [
        {
          "output_type": "stream",
          "name": "stdout",
          "text": [
            "                          Entity  \\\n",
            "0                            AOL   \n",
            "1    Cardsystems Solutions Inc.    \n",
            "2                Ameritrade Inc.   \n",
            "3                      Citigroup   \n",
            "4      Automatic Data Processing   \n",
            "..                           ...   \n",
            "271                       Orbitz   \n",
            "272                      Aadhaar   \n",
            "273       Saks and Lord & Taylor   \n",
            "274                  Panerabread   \n",
            "275                 MyFitnessPal   \n",
            "\n",
            "                                      Alternative Name  \\\n",
            "0                                      American Online   \n",
            "1    Third-party payment processor for Visa, Master...   \n",
            "2    Computer backup tape containing personal infor...   \n",
            "3                                                  NaN   \n",
            "4             Business outsourcing, payrolls, benefits   \n",
            "..                                                 ...   \n",
            "271                                                NaN   \n",
            "272            India's national government ID database   \n",
            "273                 Both owned by Hudson's Bay Company   \n",
            "274                                                NaN   \n",
            "275                                        UnderArmour   \n",
            "\n",
            "                                                 Story  Year  records lost  \\\n",
            "0    A former America Online software engineer stol...  2004  9.200000e+07   \n",
            "1    CardSystems was fingered by MasterCard after i...  2005  4.000000e+07   \n",
            "2                                        online broker  2005  2.000000e+05   \n",
            "3    Blame the messenger! A box of computer tapes c...  2005  3.900000e+06   \n",
            "4                                                  NaN  2005  1.250000e+05   \n",
            "..                                                 ...   ...           ...   \n",
            "271  Mar. An old version of the Orbitz website was ...  2018  8.800000e+05   \n",
            "272  Mar. A security researcher discovered a system...  2018  1.100000e+09   \n",
            "273  Apr. A known ring of cybercriminals implanted ...  2018  5.000000e+06   \n",
            "274  Customer records were available via the site f...  2018  3.700000e+07   \n",
            "275  Feb. Usernames, email addresses, and hashed us...  2018  1.500000e+08   \n",
            "\n",
            "    Organisation                 Method of Leak  Number of Records Stolen  \\\n",
            "0            web                     inside job                  92000000   \n",
            "1      financial                         hacked                  40000000   \n",
            "2      financial  lost / stolen device or media                    200000   \n",
            "3      financial  lost / stolen device or media                   3900000   \n",
            "4      financial                  poor security                    130000   \n",
            "..           ...                            ...                       ...   \n",
            "271          web                         hacked                    880000   \n",
            "272   government                  poor security                1100000000   \n",
            "273       retail                         hacked                   5000000   \n",
            "274       retail                  poor security                  37000000   \n",
            "275          app                         hacked                 150000000   \n",
            "\n",
            "     Data Sensitivity                                    1st source link  \\\n",
            "0                   1  http://money.cnn.com/2004/06/23/technology/aol...   \n",
            "1                 300  http://www.msnbc.msn.com/id/8260050/ns/technol...   \n",
            "2                  20                 http://www.nbcnews.com/id/7561268/   \n",
            "3                 300  http://www.nytimes.com/2005/06/07/business/07d...   \n",
            "4                  20  http://abcnews.go.com/Technology/story?id=2160...   \n",
            "..                ...                                                ...   \n",
            "271               300  https://www.usnews.com/news/business/articles/...   \n",
            "272              4000  http://www.zdnet.com/article/another-data-leak...   \n",
            "273               300  https://www.nytimes.com/2018/04/01/technology/...   \n",
            "274                20  https://krebsonsecurity.com/2018/04/panerabrea...   \n",
            "275                 1  https://www.theguardian.com/technology/2018/ma...   \n",
            "\n",
            "                                       2nd source link 3rd source  \\\n",
            "0    http://www.msnbc.msn.com/id/8985989/#.UFcN8RgUwaA        NaN   \n",
            "1                                                  NaN        NaN   \n",
            "2                                                  NaN        NaN   \n",
            "3                                                  NaN        NaN   \n",
            "4                                                  NaN        NaN   \n",
            "..                                                 ...        ...   \n",
            "271                                                NaN        NaN   \n",
            "272                                                NaN        NaN   \n",
            "273                                                NaN        NaN   \n",
            "274  https://medium.com/@djhoulihan/no-panera-bread...        NaN   \n",
            "275                                                NaN        NaN   \n",
            "\n",
            "                 Source Name  \n",
            "0                        CNN  \n",
            "1                      MSNBC  \n",
            "2                        NBC  \n",
            "3                   NY Times  \n",
            "4                        ABC  \n",
            "..                       ...  \n",
            "271                  US News  \n",
            "272                    ZDNet  \n",
            "273                  NYTimes  \n",
            "274  Krebsonsecurity, Medium  \n",
            "275                 Guardian  \n",
            "\n",
            "[276 rows x 13 columns]\n"
          ]
        }
      ]
    },
    {
      "cell_type": "code",
      "source": [
        "df_final.info()\n"
      ],
      "metadata": {
        "colab": {
          "base_uri": "https://localhost:8080/"
        },
        "id": "Jmht5OLav-TK",
        "outputId": "7f367eca-b541-4339-d606-123ec5f4a1f2"
      },
      "execution_count": 31,
      "outputs": [
        {
          "output_type": "stream",
          "name": "stdout",
          "text": [
            "<class 'pandas.core.frame.DataFrame'>\n",
            "RangeIndex: 276 entries, 0 to 275\n",
            "Data columns (total 13 columns):\n",
            " #   Column                    Non-Null Count  Dtype  \n",
            "---  ------                    --------------  -----  \n",
            " 0   Entity                    276 non-null    object \n",
            " 1   Alternative Name          127 non-null    object \n",
            " 2   Story                     240 non-null    object \n",
            " 3   Year                      276 non-null    int64  \n",
            " 4   records lost              274 non-null    float64\n",
            " 5   Organisation              276 non-null    object \n",
            " 6   Method of Leak            276 non-null    object \n",
            " 7   Number of Records Stolen  276 non-null    int64  \n",
            " 8   Data Sensitivity          276 non-null    int64  \n",
            " 9   1st source link           276 non-null    object \n",
            " 10  2nd source link           54 non-null     object \n",
            " 11  3rd source                4 non-null      object \n",
            " 12  Source Name               275 non-null    object \n",
            "dtypes: float64(1), int64(3), object(9)\n",
            "memory usage: 28.2+ KB\n"
          ]
        }
      ]
    },
    {
      "cell_type": "code",
      "source": [
        "# Removing double quotes from the string text fields\n",
        "df_final['Entity'] = df_final['Entity'].apply(lambda x: x.replace('\"', ''))\n"
      ],
      "metadata": {
        "id": "q2F4uoLrwCfe"
      },
      "execution_count": 32,
      "outputs": []
    },
    {
      "cell_type": "code",
      "source": [
        "df_final[\"Alternative Name\"] = df[\"Alternative Name\"].astype(str)\n",
        "\n",
        "df_final['Alternative Name'] = df_final['Alternative Name'].apply(lambda x: x.replace('\"', ''))\n"
      ],
      "metadata": {
        "id": "0DIdcZXHypHL"
      },
      "execution_count": 33,
      "outputs": []
    },
    {
      "cell_type": "code",
      "source": [
        "df_final[\"Story\"] = df[\"Story\"].astype(str)\n",
        "\n",
        "df_final['Story'] = df_final['Story'].apply(lambda x: x.replace('\"', ''))\n"
      ],
      "metadata": {
        "id": "FA7AgsAOyteN"
      },
      "execution_count": 34,
      "outputs": []
    },
    {
      "cell_type": "code",
      "source": [
        "#Find null values\n",
        "\n",
        "df.isnull().sum()"
      ],
      "metadata": {
        "colab": {
          "base_uri": "https://localhost:8080/"
        },
        "id": "MoSjMx0uz3vc",
        "outputId": "6a1d87c3-b8cf-4b58-8c63-39f2569d2888"
      },
      "execution_count": 35,
      "outputs": [
        {
          "output_type": "execute_result",
          "data": {
            "text/plain": [
              "Entity                        0\n",
              "Alternative Name            149\n",
              "Story                        36\n",
              "Year                          0\n",
              "records lost                  2\n",
              "Organisation                  0\n",
              "Method of Leak                0\n",
              "Number of Records Stolen      0\n",
              "Data Sensitivity              0\n",
              "1st source link               0\n",
              "2nd source link             222\n",
              "3rd source                  272\n",
              "Source Name                   1\n",
              "dtype: int64"
            ]
          },
          "metadata": {},
          "execution_count": 35
        }
      ]
    },
    {
      "cell_type": "code",
      "source": [
        "#Replace null values\n",
        "import numpy as np\n",
        "df_final.replace(np.nan,'0',inplace = True)\n",
        "\n",
        "#Check the changes now\n",
        "df_final.isnull().sum()"
      ],
      "metadata": {
        "colab": {
          "base_uri": "https://localhost:8080/"
        },
        "id": "KViTyCOm1jmC",
        "outputId": "438006e9-534a-4323-e795-07eb3213902c"
      },
      "execution_count": 36,
      "outputs": [
        {
          "output_type": "execute_result",
          "data": {
            "text/plain": [
              "Entity                      0\n",
              "Alternative Name            0\n",
              "Story                       0\n",
              "Year                        0\n",
              "records lost                0\n",
              "Organisation                0\n",
              "Method of Leak              0\n",
              "Number of Records Stolen    0\n",
              "Data Sensitivity            0\n",
              "1st source link             0\n",
              "2nd source link             0\n",
              "3rd source                  0\n",
              "Source Name                 0\n",
              "dtype: int64"
            ]
          },
          "metadata": {},
          "execution_count": 36
        }
      ]
    },
    {
      "cell_type": "code",
      "source": [
        "#Boxplot\n",
        "\n",
        "df_final[['Number of Records Stolen']].boxplot()"
      ],
      "metadata": {
        "colab": {
          "base_uri": "https://localhost:8080/",
          "height": 290
        },
        "id": "DsTbk2Q83SKG",
        "outputId": "ea060fbe-9483-4259-85a3-f7add10f2c92"
      },
      "execution_count": 37,
      "outputs": [
        {
          "output_type": "execute_result",
          "data": {
            "text/plain": [
              "<matplotlib.axes._subplots.AxesSubplot at 0x7f74bd2120d0>"
            ]
          },
          "metadata": {},
          "execution_count": 37
        },
        {
          "output_type": "display_data",
          "data": {
            "text/plain": [
              "<Figure size 432x288 with 1 Axes>"
            ],
            "image/png": "[encoded data removed]"
          },
          "metadata": {
            "needs_background": "light"
          }
        }
      ]
    },
    {
      "cell_type": "code",
      "source": [
        "#Correlation plot\n",
        "\n",
        "sns.heatmap(df_final.corr())"
      ],
      "metadata": {
        "colab": {
          "base_uri": "https://localhost:8080/",
          "height": 403
        },
        "id": "Nwrw2Jof3-Xl",
        "outputId": "e5c3002f-f881-41d4-ca1d-8ca17da50d99"
      },
      "execution_count": 38,
      "outputs": [
        {
          "output_type": "execute_result",
          "data": {
            "text/plain": [
              "<matplotlib.axes._subplots.AxesSubplot at 0x7f74bd18b810>"
            ]
          },
          "metadata": {},
          "execution_count": 38
        },
        {
          "output_type": "display_data",
          "data": {
            "text/plain": [
              "<Figure size 432x288 with 2 Axes>"
            ],
            "image/png": "[encoded data removed]"
          },
          "metadata": {
            "needs_background": "light"
          }
        }
      ]
    },
    {
      "cell_type": "code",
      "source": [
        "#Converting Data Sensitivity Numeric column into Text details\n",
        "\n",
        "df_final['Data Sensitivity'] = df_final['Data Sensitivity'].map({1: \"Email address/Online Info\", 20: \"SSN/Personal details\", 300: \"Credit Card Info\", 4000: \"Email password/Health records\", 50000: \"Full bank account details\"})"
      ],
      "metadata": {
        "id": "sKPgmjiCNADh"
      },
      "execution_count": 39,
      "outputs": []
    },
    {
      "cell_type": "code",
      "source": [
        "df_final.head()"
      ],
      "metadata": {
        "colab": {
          "base_uri": "https://localhost:8080/",
          "height": 669
        },
        "id": "yxKIdNCwVmNs",
        "outputId": "abb6ee12-96ff-49a6-dcf4-86ab5e10a283"
      },
      "execution_count": 40,
      "outputs": [
        {
          "output_type": "execute_result",
          "data": {
            "text/plain": [
              "                        Entity  \\\n",
              "0                          AOL   \n",
              "1  Cardsystems Solutions Inc.    \n",
              "2              Ameritrade Inc.   \n",
              "3                    Citigroup   \n",
              "4    Automatic Data Processing   \n",
              "\n",
              "                                    Alternative Name  \\\n",
              "0                                    American Online   \n",
              "1  Third-party payment processor for Visa, Master...   \n",
              "2  Computer backup tape containing personal infor...   \n",
              "3                                                nan   \n",
              "4           Business outsourcing, payrolls, benefits   \n",
              "\n",
              "                                               Story  Year records lost  \\\n",
              "0  A former America Online software engineer stol...  2004   92000000.0   \n",
              "1  CardSystems was fingered by MasterCard after i...  2005   40000000.0   \n",
              "2                                      online broker  2005     200000.0   \n",
              "3  Blame the messenger! A box of computer tapes c...  2005    3900000.0   \n",
              "4                                                nan  2005     125000.0   \n",
              "\n",
              "  Organisation                 Method of Leak  Number of Records Stolen  \\\n",
              "0          web                     inside job                  92000000   \n",
              "1    financial                         hacked                  40000000   \n",
              "2    financial  lost / stolen device or media                    200000   \n",
              "3    financial  lost / stolen device or media                   3900000   \n",
              "4    financial                  poor security                    130000   \n",
              "\n",
              "            Data Sensitivity  \\\n",
              "0  Email address/Online Info   \n",
              "1           Credit Card Info   \n",
              "2       SSN/Personal details   \n",
              "3           Credit Card Info   \n",
              "4       SSN/Personal details   \n",
              "\n",
              "                                     1st source link  \\\n",
              "0  http://money.cnn.com/2004/06/23/technology/aol...   \n",
              "1  http://www.msnbc.msn.com/id/8260050/ns/technol...   \n",
              "2                 http://www.nbcnews.com/id/7561268/   \n",
              "3  http://www.nytimes.com/2005/06/07/business/07d...   \n",
              "4  http://abcnews.go.com/Technology/story?id=2160...   \n",
              "\n",
              "                                     2nd source link 3rd source Source Name  \n",
              "0  http://www.msnbc.msn.com/id/8985989/#.UFcN8RgUwaA          0         CNN  \n",
              "1                                                  0          0       MSNBC  \n",
              "2                                                  0          0         NBC  \n",
              "3                                                  0          0    NY Times  \n",
              "4                                                  0          0         ABC  "
            ],
            "text/html": [
              "\n",
              "  <div id=\"df-9e93ad09-2645-4e87-8545-559575a90bec\">\n",
              "    <div class=\"colab-df-container\">\n",
              "      <div>\n",
              "<style scoped>\n",
              "    .dataframe tbody tr th:only-of-type {\n",
              "        vertical-align: middle;\n",
              "    }\n",
              "\n",
              "    .dataframe tbody tr th {\n",
              "        vertical-align: top;\n",
              "    }\n",
              "\n",
              "    .dataframe thead th {\n",
              "        text-align: right;\n",
              "    }\n",
              "</style>\n",
              "<table border=\"1\" class=\"dataframe\">\n",
              "  <thead>\n",
              "    <tr style=\"text-align: right;\">\n",
              "      <th></th>\n",
              "      <th>Entity</th>\n",
              "      <th>Alternative Name</th>\n",
              "      <th>Story</th>\n",
              "      <th>Year</th>\n",
              "      <th>records lost</th>\n",
              "      <th>Organisation</th>\n",
              "      <th>Method of Leak</th>\n",
              "      <th>Number of Records Stolen</th>\n",
              "      <th>Data Sensitivity</th>\n",
              "      <th>1st source link</th>\n",
              "      <th>2nd source link</th>\n",
              "      <th>3rd source</th>\n",
              "      <th>Source Name</th>\n",
              "    </tr>\n",
              "  </thead>\n",
              "  <tbody>\n",
              "    <tr>\n",
              "      <th>0</th>\n",
              "      <td>AOL</td>\n",
              "      <td>American Online</td>\n",
              "      <td>A former America Online software engineer stol...</td>\n",
              "      <td>2004</td>\n",
              "      <td>92000000.0</td>\n",
              "      <td>web</td>\n",
              "      <td>inside job</td>\n",
              "      <td>92000000</td>\n",
              "      <td>Email address/Online Info</td>\n",
              "      <td>http://money.cnn.com/2004/06/23/technology/aol...</td>\n",
              "      <td>http://www.msnbc.msn.com/id/8985989/#.UFcN8RgUwaA</td>\n",
              "      <td>0</td>\n",
              "      <td>CNN</td>\n",
              "    </tr>\n",
              "    <tr>\n",
              "      <th>1</th>\n",
              "      <td>Cardsystems Solutions Inc.</td>\n",
              "      <td>Third-party payment processor for Visa, Master...</td>\n",
              "      <td>CardSystems was fingered by MasterCard after i...</td>\n",
              "      <td>2005</td>\n",
              "      <td>40000000.0</td>\n",
              "      <td>financial</td>\n",
              "      <td>hacked</td>\n",
              "      <td>40000000</td>\n",
              "      <td>Credit Card Info</td>\n",
              "      <td>http://www.msnbc.msn.com/id/8260050/ns/technol...</td>\n",
              "      <td>0</td>\n",
              "      <td>0</td>\n",
              "      <td>MSNBC</td>\n",
              "    </tr>\n",
              "    <tr>\n",
              "      <th>2</th>\n",
              "      <td>Ameritrade Inc.</td>\n",
              "      <td>Computer backup tape containing personal infor...</td>\n",
              "      <td>online broker</td>\n",
              "      <td>2005</td>\n",
              "      <td>200000.0</td>\n",
              "      <td>financial</td>\n",
              "      <td>lost / stolen device or media</td>\n",
              "      <td>200000</td>\n",
              "      <td>SSN/Personal details</td>\n",
              "      <td>http://www.nbcnews.com/id/7561268/</td>\n",
              "      <td>0</td>\n",
              "      <td>0</td>\n",
              "      <td>NBC</td>\n",
              "    </tr>\n",
              "    <tr>\n",
              "      <th>3</th>\n",
              "      <td>Citigroup</td>\n",
              "      <td>nan</td>\n",
              "      <td>Blame the messenger! A box of computer tapes c...</td>\n",
              "      <td>2005</td>\n",
              "      <td>3900000.0</td>\n",
              "      <td>financial</td>\n",
              "      <td>lost / stolen device or media</td>\n",
              "      <td>3900000</td>\n",
              "      <td>Credit Card Info</td>\n",
              "      <td>http://www.nytimes.com/2005/06/07/business/07d...</td>\n",
              "      <td>0</td>\n",
              "      <td>0</td>\n",
              "      <td>NY Times</td>\n",
              "    </tr>\n",
              "    <tr>\n",
              "      <th>4</th>\n",
              "      <td>Automatic Data Processing</td>\n",
              "      <td>Business outsourcing, payrolls, benefits</td>\n",
              "      <td>nan</td>\n",
              "      <td>2005</td>\n",
              "      <td>125000.0</td>\n",
              "      <td>financial</td>\n",
              "      <td>poor security</td>\n",
              "      <td>130000</td>\n",
              "      <td>SSN/Personal details</td>\n",
              "      <td>http://abcnews.go.com/Technology/story?id=2160...</td>\n",
              "      <td>0</td>\n",
              "      <td>0</td>\n",
              "      <td>ABC</td>\n",
              "    </tr>\n",
              "  </tbody>\n",
              "</table>\n",
              "</div>\n",
              "      <button class=\"colab-df-convert\" onclick=\"convertToInteractive('df-9e93ad09-2645-4e87-8545-559575a90bec')\"\n",
              "              title=\"Convert this dataframe to an interactive table.\"\n",
              "              style=\"display:none;\">\n",
              "        \n",
              "  <svg xmlns=\"http://www.w3.org/2000/svg\" height=\"24px\"viewBox=\"0 0 24 24\"\n",
              "       width=\"24px\">\n",
              "    <path d=\"M0 0h24v24H0V0z\" fill=\"none\"/>\n",
              "    <path d=\"M18.56 5.44l.94 2.06.94-2.06 2.06-.94-2.06-.94-.94-2.06-.94 2.06-2.06.94zm-11 1L8.5 8.5l.94-2.06 2.06-.94-2.06-.94L8.5 2.5l-.94 2.06-2.06.94zm10 10l.94 2.06.94-2.06 2.06-.94-2.06-.94-.94-2.06-.94 2.06-2.06.94z\"/><path d=\"M17.41 7.96l-1.37-1.37c-.4-.4-.92-.59-1.43-.59-.52 0-1.04.2-1.43.59L10.3 9.45l-7.72 7.72c-.78.78-.78 2.05 0 2.83L4 21.41c.39.39.9.59 1.41.59.51 0 1.02-.2 1.41-.59l7.78-7.78 2.81-2.81c.8-.78.8-2.07 0-2.86zM5.41 20L4 18.59l7.72-7.72 1.47 1.35L5.41 20z\"/>\n",
              "  </svg>\n",
              "      </button>\n",
              "      \n",
              "  <style>\n",
              "    .colab-df-container {\n",
              "      display:flex;\n",
              "      flex-wrap:wrap;\n",
              "      gap: 12px;\n",
              "    }\n",
              "\n",
              "    .colab-df-convert {\n",
              "      background-color: #E8F0FE;\n",
              "      border: none;\n",
              "      border-radius: 50%;\n",
              "      cursor: pointer;\n",
              "      display: none;\n",
              "      fill: #1967D2;\n",
              "      height: 32px;\n",
              "      padding: 0 0 0 0;\n",
              "      width: 32px;\n",
              "    }\n",
              "\n",
              "    .colab-df-convert:hover {\n",
              "      background-color: #E2EBFA;\n",
              "      box-shadow: 0px 1px 2px rgba(60, 64, 67, 0.3), 0px 1px 3px 1px rgba(60, 64, 67, 0.15);\n",
              "      fill: #174EA6;\n",
              "    }\n",
              "\n",
              "    [theme=dark] .colab-df-convert {\n",
              "      background-color: #3B4455;\n",
              "      fill: #D2E3FC;\n",
              "    }\n",
              "\n",
              "    [theme=dark] .colab-df-convert:hover {\n",
              "      background-color: #434B5C;\n",
              "      box-shadow: 0px 1px 3px 1px rgba(0, 0, 0, 0.15);\n",
              "      filter: drop-shadow(0px 1px 2px rgba(0, 0, 0, 0.3));\n",
              "      fill: #FFFFFF;\n",
              "    }\n",
              "  </style>\n",
              "\n",
              "      <script>\n",
              "        const buttonEl =\n",
              "          document.querySelector('#df-9e93ad09-2645-4e87-8545-559575a90bec button.colab-df-convert');\n",
              "        buttonEl.style.display =\n",
              "          google.colab.kernel.accessAllowed ? 'block' : 'none';\n",
              "\n",
              "        async function convertToInteractive(key) {\n",
              "          const element = document.querySelector('#df-9e93ad09-2645-4e87-8545-559575a90bec');\n",
              "          const dataTable =\n",
              "            await google.colab.kernel.invokeFunction('convertToInteractive',\n",
              "                                                     [key], {});\n",
              "          if (!dataTable) return;\n",
              "\n",
              "          const docLinkHtml = 'Like what you see? Visit the ' +\n",
              "            '<a target=\"_blank\" href=https://colab.research.google.com/notebooks/data_table.ipynb>data table notebook</a>'\n",
              "            + ' to learn more about interactive tables.';\n",
              "          element.innerHTML = '';\n",
              "          dataTable['output_type'] = 'display_data';\n",
              "          await google.colab.output.renderOutput(dataTable, element);\n",
              "          const docLink = document.createElement('div');\n",
              "          docLink.innerHTML = docLinkHtml;\n",
              "          element.appendChild(docLink);\n",
              "        }\n",
              "      </script>\n",
              "    </div>\n",
              "  </div>\n",
              "  "
            ]
          },
          "metadata": {},
          "execution_count": 40
        }
      ]
    },
    {
      "cell_type": "code",
      "source": [
        "df_final = df_final.replace(np.nan, '', regex=True)\n"
      ],
      "metadata": {
        "id": "9JbGY2xdrRdB"
      },
      "execution_count": 41,
      "outputs": []
    },
    {
      "cell_type": "code",
      "source": [
        "df_final = df_final.fillna('')"
      ],
      "metadata": {
        "id": "Rr6t6goKeowK"
      },
      "execution_count": 42,
      "outputs": []
    },
    {
      "cell_type": "code",
      "source": [
        "df_final.head()"
      ],
      "metadata": {
        "colab": {
          "base_uri": "https://localhost:8080/",
          "height": 669
        },
        "id": "sqPAPLr_skNb",
        "outputId": "f319d1c5-0b5f-4264-d8c9-3079c5c076d4"
      },
      "execution_count": 43,
      "outputs": [
        {
          "output_type": "execute_result",
          "data": {
            "text/plain": [
              "                        Entity  \\\n",
              "0                          AOL   \n",
              "1  Cardsystems Solutions Inc.    \n",
              "2              Ameritrade Inc.   \n",
              "3                    Citigroup   \n",
              "4    Automatic Data Processing   \n",
              "\n",
              "                                    Alternative Name  \\\n",
              "0                                    American Online   \n",
              "1  Third-party payment processor for Visa, Master...   \n",
              "2  Computer backup tape containing personal infor...   \n",
              "3                                                nan   \n",
              "4           Business outsourcing, payrolls, benefits   \n",
              "\n",
              "                                               Story  Year records lost  \\\n",
              "0  A former America Online software engineer stol...  2004   92000000.0   \n",
              "1  CardSystems was fingered by MasterCard after i...  2005   40000000.0   \n",
              "2                                      online broker  2005     200000.0   \n",
              "3  Blame the messenger! A box of computer tapes c...  2005    3900000.0   \n",
              "4                                                nan  2005     125000.0   \n",
              "\n",
              "  Organisation                 Method of Leak  Number of Records Stolen  \\\n",
              "0          web                     inside job                  92000000   \n",
              "1    financial                         hacked                  40000000   \n",
              "2    financial  lost / stolen device or media                    200000   \n",
              "3    financial  lost / stolen device or media                   3900000   \n",
              "4    financial                  poor security                    130000   \n",
              "\n",
              "            Data Sensitivity  \\\n",
              "0  Email address/Online Info   \n",
              "1           Credit Card Info   \n",
              "2       SSN/Personal details   \n",
              "3           Credit Card Info   \n",
              "4       SSN/Personal details   \n",
              "\n",
              "                                     1st source link  \\\n",
              "0  http://money.cnn.com/2004/06/23/technology/aol...   \n",
              "1  http://www.msnbc.msn.com/id/8260050/ns/technol...   \n",
              "2                 http://www.nbcnews.com/id/7561268/   \n",
              "3  http://www.nytimes.com/2005/06/07/business/07d...   \n",
              "4  http://abcnews.go.com/Technology/story?id=2160...   \n",
              "\n",
              "                                     2nd source link 3rd source Source Name  \n",
              "0  http://www.msnbc.msn.com/id/8985989/#.UFcN8RgUwaA          0         CNN  \n",
              "1                                                  0          0       MSNBC  \n",
              "2                                                  0          0         NBC  \n",
              "3                                                  0          0    NY Times  \n",
              "4                                                  0          0         ABC  "
            ],
            "text/html": [
              "\n",
              "  <div id=\"df-518e7243-8b56-4885-b886-e8e73ac92f72\">\n",
              "    <div class=\"colab-df-container\">\n",
              "      <div>\n",
              "<style scoped>\n",
              "    .dataframe tbody tr th:only-of-type {\n",
              "        vertical-align: middle;\n",
              "    }\n",
              "\n",
              "    .dataframe tbody tr th {\n",
              "        vertical-align: top;\n",
              "    }\n",
              "\n",
              "    .dataframe thead th {\n",
              "        text-align: right;\n",
              "    }\n",
              "</style>\n",
              "<table border=\"1\" class=\"dataframe\">\n",
              "  <thead>\n",
              "    <tr style=\"text-align: right;\">\n",
              "      <th></th>\n",
              "      <th>Entity</th>\n",
              "      <th>Alternative Name</th>\n",
              "      <th>Story</th>\n",
              "      <th>Year</th>\n",
              "      <th>records lost</th>\n",
              "      <th>Organisation</th>\n",
              "      <th>Method of Leak</th>\n",
              "      <th>Number of Records Stolen</th>\n",
              "      <th>Data Sensitivity</th>\n",
              "      <th>1st source link</th>\n",
              "      <th>2nd source link</th>\n",
              "      <th>3rd source</th>\n",
              "      <th>Source Name</th>\n",
              "    </tr>\n",
              "  </thead>\n",
              "  <tbody>\n",
              "    <tr>\n",
              "      <th>0</th>\n",
              "      <td>AOL</td>\n",
              "      <td>American Online</td>\n",
              "      <td>A former America Online software engineer stol...</td>\n",
              "      <td>2004</td>\n",
              "      <td>92000000.0</td>\n",
              "      <td>web</td>\n",
              "      <td>inside job</td>\n",
              "      <td>92000000</td>\n",
              "      <td>Email address/Online Info</td>\n",
              "      <td>http://money.cnn.com/2004/06/23/technology/aol...</td>\n",
              "      <td>http://www.msnbc.msn.com/id/8985989/#.UFcN8RgUwaA</td>\n",
              "      <td>0</td>\n",
              "      <td>CNN</td>\n",
              "    </tr>\n",
              "    <tr>\n",
              "      <th>1</th>\n",
              "      <td>Cardsystems Solutions Inc.</td>\n",
              "      <td>Third-party payment processor for Visa, Master...</td>\n",
              "      <td>CardSystems was fingered by MasterCard after i...</td>\n",
              "      <td>2005</td>\n",
              "      <td>40000000.0</td>\n",
              "      <td>financial</td>\n",
              "      <td>hacked</td>\n",
              "      <td>40000000</td>\n",
              "      <td>Credit Card Info</td>\n",
              "      <td>http://www.msnbc.msn.com/id/8260050/ns/technol...</td>\n",
              "      <td>0</td>\n",
              "      <td>0</td>\n",
              "      <td>MSNBC</td>\n",
              "    </tr>\n",
              "    <tr>\n",
              "      <th>2</th>\n",
              "      <td>Ameritrade Inc.</td>\n",
              "      <td>Computer backup tape containing personal infor...</td>\n",
              "      <td>online broker</td>\n",
              "      <td>2005</td>\n",
              "      <td>200000.0</td>\n",
              "      <td>financial</td>\n",
              "      <td>lost / stolen device or media</td>\n",
              "      <td>200000</td>\n",
              "      <td>SSN/Personal details</td>\n",
              "      <td>http://www.nbcnews.com/id/7561268/</td>\n",
              "      <td>0</td>\n",
              "      <td>0</td>\n",
              "      <td>NBC</td>\n",
              "    </tr>\n",
              "    <tr>\n",
              "      <th>3</th>\n",
              "      <td>Citigroup</td>\n",
              "      <td>nan</td>\n",
              "      <td>Blame the messenger! A box of computer tapes c...</td>\n",
              "      <td>2005</td>\n",
              "      <td>3900000.0</td>\n",
              "      <td>financial</td>\n",
              "      <td>lost / stolen device or media</td>\n",
              "      <td>3900000</td>\n",
              "      <td>Credit Card Info</td>\n",
              "      <td>http://www.nytimes.com/2005/06/07/business/07d...</td>\n",
              "      <td>0</td>\n",
              "      <td>0</td>\n",
              "      <td>NY Times</td>\n",
              "    </tr>\n",
              "    <tr>\n",
              "      <th>4</th>\n",
              "      <td>Automatic Data Processing</td>\n",
              "      <td>Business outsourcing, payrolls, benefits</td>\n",
              "      <td>nan</td>\n",
              "      <td>2005</td>\n",
              "      <td>125000.0</td>\n",
              "      <td>financial</td>\n",
              "      <td>poor security</td>\n",
              "      <td>130000</td>\n",
              "      <td>SSN/Personal details</td>\n",
              "      <td>http://abcnews.go.com/Technology/story?id=2160...</td>\n",
              "      <td>0</td>\n",
              "      <td>0</td>\n",
              "      <td>ABC</td>\n",
              "    </tr>\n",
              "  </tbody>\n",
              "</table>\n",
              "</div>\n",
              "      <button class=\"colab-df-convert\" onclick=\"convertToInteractive('df-518e7243-8b56-4885-b886-e8e73ac92f72')\"\n",
              "              title=\"Convert this dataframe to an interactive table.\"\n",
              "              style=\"display:none;\">\n",
              "        \n",
              "  <svg xmlns=\"http://www.w3.org/2000/svg\" height=\"24px\"viewBox=\"0 0 24 24\"\n",
              "       width=\"24px\">\n",
              "    <path d=\"M0 0h24v24H0V0z\" fill=\"none\"/>\n",
              "    <path d=\"M18.56 5.44l.94 2.06.94-2.06 2.06-.94-2.06-.94-.94-2.06-.94 2.06-2.06.94zm-11 1L8.5 8.5l.94-2.06 2.06-.94-2.06-.94L8.5 2.5l-.94 2.06-2.06.94zm10 10l.94 2.06.94-2.06 2.06-.94-2.06-.94-.94-2.06-.94 2.06-2.06.94z\"/><path d=\"M17.41 7.96l-1.37-1.37c-.4-.4-.92-.59-1.43-.59-.52 0-1.04.2-1.43.59L10.3 9.45l-7.72 7.72c-.78.78-.78 2.05 0 2.83L4 21.41c.39.39.9.59 1.41.59.51 0 1.02-.2 1.41-.59l7.78-7.78 2.81-2.81c.8-.78.8-2.07 0-2.86zM5.41 20L4 18.59l7.72-7.72 1.47 1.35L5.41 20z\"/>\n",
              "  </svg>\n",
              "      </button>\n",
              "      \n",
              "  <style>\n",
              "    .colab-df-container {\n",
              "      display:flex;\n",
              "      flex-wrap:wrap;\n",
              "      gap: 12px;\n",
              "    }\n",
              "\n",
              "    .colab-df-convert {\n",
              "      background-color: #E8F0FE;\n",
              "      border: none;\n",
              "      border-radius: 50%;\n",
              "      cursor: pointer;\n",
              "      display: none;\n",
              "      fill: #1967D2;\n",
              "      height: 32px;\n",
              "      padding: 0 0 0 0;\n",
              "      width: 32px;\n",
              "    }\n",
              "\n",
              "    .colab-df-convert:hover {\n",
              "      background-color: #E2EBFA;\n",
              "      box-shadow: 0px 1px 2px rgba(60, 64, 67, 0.3), 0px 1px 3px 1px rgba(60, 64, 67, 0.15);\n",
              "      fill: #174EA6;\n",
              "    }\n",
              "\n",
              "    [theme=dark] .colab-df-convert {\n",
              "      background-color: #3B4455;\n",
              "      fill: #D2E3FC;\n",
              "    }\n",
              "\n",
              "    [theme=dark] .colab-df-convert:hover {\n",
              "      background-color: #434B5C;\n",
              "      box-shadow: 0px 1px 3px 1px rgba(0, 0, 0, 0.15);\n",
              "      filter: drop-shadow(0px 1px 2px rgba(0, 0, 0, 0.3));\n",
              "      fill: #FFFFFF;\n",
              "    }\n",
              "  </style>\n",
              "\n",
              "      <script>\n",
              "        const buttonEl =\n",
              "          document.querySelector('#df-518e7243-8b56-4885-b886-e8e73ac92f72 button.colab-df-convert');\n",
              "        buttonEl.style.display =\n",
              "          google.colab.kernel.accessAllowed ? 'block' : 'none';\n",
              "\n",
              "        async function convertToInteractive(key) {\n",
              "          const element = document.querySelector('#df-518e7243-8b56-4885-b886-e8e73ac92f72');\n",
              "          const dataTable =\n",
              "            await google.colab.kernel.invokeFunction('convertToInteractive',\n",
              "                                                     [key], {});\n",
              "          if (!dataTable) return;\n",
              "\n",
              "          const docLinkHtml = 'Like what you see? Visit the ' +\n",
              "            '<a target=\"_blank\" href=https://colab.research.google.com/notebooks/data_table.ipynb>data table notebook</a>'\n",
              "            + ' to learn more about interactive tables.';\n",
              "          element.innerHTML = '';\n",
              "          dataTable['output_type'] = 'display_data';\n",
              "          await google.colab.output.renderOutput(dataTable, element);\n",
              "          const docLink = document.createElement('div');\n",
              "          docLink.innerHTML = docLinkHtml;\n",
              "          element.appendChild(docLink);\n",
              "        }\n",
              "      </script>\n",
              "    </div>\n",
              "  </div>\n",
              "  "
            ]
          },
          "metadata": {},
          "execution_count": 43
        }
      ]
    },
    {
      "cell_type": "code",
      "source": [
        "df_final.to_csv (r'export_dataframe.csv', index = False, header=True)"
      ],
      "metadata": {
        "id": "0ME5i3MzouVF"
      },
      "execution_count": 44,
      "outputs": []
    }
  ]
}